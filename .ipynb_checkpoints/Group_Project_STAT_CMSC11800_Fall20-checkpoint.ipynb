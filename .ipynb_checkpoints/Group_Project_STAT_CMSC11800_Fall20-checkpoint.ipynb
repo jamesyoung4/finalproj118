{
 "cells": [
  {
   "cell_type": "markdown",
   "metadata": {},
   "source": [
    "## Group Project for STAT/CMSC 11800 - Fall Quarter 2020\n",
    "\n",
    "### Deadlines: \n",
    "\n",
    "- project proposal: Thursday, November 19 at 9:00am\n",
    "- group presentation: TBD, Exam week, December 8-10\n",
    "- final report and notebook: Thursday, December 10 at noon\n",
    "\n",
    "The goal of the project is to go through the complete data science process to answer questions you have about some topic of your own choosing. You will acquire the data, design your visualizations, run statistical analysis, and communicate the results.\n",
    "\n",
    "This is a group project where group membership assignments are made by the instructors.  We recognize that individual schedules and other constraints might limit your ability to work in a team. If this the case, please let us know immediately. In general, we anticipate that all members of a group will receive the same grade. However, we reserve the right to assign different grades to each group member based on peer assessments of effort and contribution.\n",
    "\n",
    "### Deliverables:\n",
    "\n",
    "- **Project proposal**: one paragraph discussing the project goals. This will not be used for the project score - it is a way to check what the instructors think about your ideas. Please indicate in the proposal the source(s) of the data used for the project. The proposal file should also have the group number and the names of the students in the group.\n",
    "- **Presentation**: Each group will present to the instructors, TAs and the rest of the class during exam week. The presentation will be either a **poster** in a virtual poster session or a virtual **lightning talk** (format TBD later). More details will be given in class in the next weeks.\n",
    "- **Report**: The report should reflect comments and feedback received during presentation. **The reports should be at most four pages long.**\n",
    "- **Notebook**: a high-quality and readable Python Jupyter notebook. You should strive for doing things the right way and think about aspects such as reusability etc. We also expect you to document your code.\n",
    "\n",
    "\n",
    "### Report Objectives###\n",
    "\n",
    "The final report should cover these aspects:\n",
    "\n",
    "-    Overview and Motivation: Provide an overview of the project goals and the motivation for it. \n",
    "-    Related Work: Anything that inspired you, such as a paper, a newspaper/magazine article etc.\n",
    "-    Initial Questions: What questions are you trying to answer? How did these questions evolve over the course of the project? What new questions did you consider in the course of your analysis?\n",
    "-    Data: Source, scraping method, cleanup, etc.\n",
    "-    Exploratory Analysis: What visualizations did you use to look at your data in different ways? What are the different statistical methods you considered? Justify the decisions you made. How did you reach these conclusions?\n",
    "-    Final Analysis: What did you learn about the data? How did you answer the questions? How can you justify your answers?\n",
    "-     Group member contributions: Please state at the end the role each member of the team had in the project.\n",
    "\n",
    "\n",
    "###  Data Examples ###\n",
    "\n",
    " The following are some of the sources we use for data. You can use data there or you can use them for inspiration for project ideas. Using **multiple datasets** could enhance the analysis.\n",
    " \n",
    "Google Dataset search:\n",
    "https://datasetsearch.research.google.com/\n",
    "\n",
    "https://blog.google/products/search/discovering-millions-datasets-web/\n",
    " \n",
    "CDC:\n",
    "https://data.cdc.gov/browse\n",
    "\n",
    "500 cities:\n",
    "https://www.cdc.gov/500cities/index.htm\n",
    "\n",
    "UN:\n",
    "http://data.un.org/\n",
    "\n",
    "Kaggle:\n",
    "https://www.kaggle.com/datasets\n",
    "\n",
    "AWS:\n",
    "https://registry.opendata.aws/\n",
    "\n",
    "FEC:\n",
    "https://www.fec.gov/"
   ]
  },
  {
   "cell_type": "code",
   "execution_count": null,
   "metadata": {},
   "outputs": [],
   "source": []
  }
 ],
 "metadata": {
  "kernelspec": {
   "display_name": "Python 3",
   "language": "python",
   "name": "python3"
  },
  "language_info": {
   "codemirror_mode": {
    "name": "ipython",
    "version": 3
   },
   "file_extension": ".py",
   "mimetype": "text/x-python",
   "name": "python",
   "nbconvert_exporter": "python",
   "pygments_lexer": "ipython3",
   "version": "3.6.8"
  }
 },
 "nbformat": 4,
 "nbformat_minor": 2
}
